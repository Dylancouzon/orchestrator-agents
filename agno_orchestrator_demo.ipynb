{
 "cells": [
  {
   "cell_type": "markdown",
   "metadata": {
    "id": "RMTgCz8ZQzpm"
   },
   "source": [
    "<center>\n",
    "    <p style=\"text-align:center\">\n",
    "        <img alt=\"phoenix logo\" src=\"https://storage.googleapis.com/arize-phoenix-assets/assets/phoenix-logo-light.svg\" width=\"200\"/>\n",
    "        <br>\n",
    "        <a href=\"https://arize.com/docs/phoenix/\">Docs</a>\n",
    "        |\n",
    "        <a href=\"https://github.com/Arize-ai/phoenix\">GitHub</a>\n",
    "        |\n",
    "        <a href=\"https://arize-ai.slack.com/join/shared_invite/zt-2w57bhem8-hq24MB6u7yE_ZF_ilOYSBw#/shared-invite/email\">Community</a>\n",
    "    </p>\n",
    "</center>"
   ]
  },
  {
   "cell_type": "markdown",
   "metadata": {
    "id": "VZaxhxwEQ3jZ"
   },
   "source": [
    "# <center> Agno Agents: Orchestrator-Worker Pattern </center>\n",
    "\n",
    "In this tutorial, we'll explore orchestrator-worker agent workflows with Agno Teams.\n",
    "\n",
    "Agent orchestration in Agno enables multiple specialized agents to collaborate dynamically, with only the most relevant one (or ones) activated based on the current task context. Instead of following a fixed sequence, agents are coordinated by a central Team that decides when and how each agent contributes. At the end of the interaction, results can be synthesized into a cohesive response.\n",
    "\n",
    "Orchestrator workflows in Agno simplify this routing pattern through a Team configured with instructions, success criteria, and an LLM model. The team routes queries to the right agents, ensures consistency across responses, and allows you to monitor and debug the workflow. With Phoenix tracing, you get full visibility into the orchestration flow to see which agents engaged, when they were activated, and why.\n",
    "\n",
    "In this example, we'll build a smart trip planning assistant where subtasks like destination research, hotel booking, and activity suggestions are dynamically delegated to the right specialized agent.\n",
    "\n",
    "By the end of this tutorial, you’ll learn how to:\n",
    "- Set up multiple specialized Agno agents in a Team\n",
    "- Use the Team orchestrator to enable dynamic agent routing\n",
    "- Trace and visualize agent interactions using Phoenix\n",
    "\n",
    "⚠️ You'll need an OpenAI Key and a [free Phoenix Cloud account](https://app.arize.com/auth/phoenix/signup) for this tutorial"
   ]
  },
  {
   "cell_type": "code",
   "execution_count": null,
   "metadata": {},
   "outputs": [],
   "source": [
    "%pip install -qqqqq arize-phoenix openinference-instrumentation-agno agno openinference-instrumentation-openai openai ddgs"
   ]
  },
  {
   "cell_type": "code",
   "execution_count": null,
   "metadata": {},
   "outputs": [],
   "source": [
    "import os\n",
    "from getpass import getpass\n",
    "\n",
    "if \"OPENAI_API_KEY\" not in os.environ:\n",
    "    os.environ[\"OPENAI_API_KEY\"] = getpass(\"🔑 Enter your OpenAI API key: \")\n",
    "\n",
    "if \"PHOENIX_API_KEY\" not in os.environ:\n",
    "    os.environ[\"PHOENIX_API_KEY\"] = getpass(\"🔑 Enter your Phoenix API key: \")\n",
    "\n",
    "if \"PHOENIX_COLLECTOR_ENDPOINT\" not in os.environ:\n",
    "    os.environ[\"PHOENIX_COLLECTOR_ENDPOINT\"] = getpass(\"🔑 Enter your Phoenix Collector Endpoint: \")"
   ]
  },
  {
   "cell_type": "markdown",
   "metadata": {},
   "source": [
    "# Configure Tracing"
   ]
  },
  {
   "cell_type": "code",
   "execution_count": null,
   "metadata": {},
   "outputs": [],
   "source": [
    "from phoenix.otel import register\n",
    "\n",
    "tracer_provider = register(project_name=\"agno-orchestrator-worker-agent\", auto_instrument=True)"
   ]
  },
  {
   "cell_type": "markdown",
   "metadata": {},
   "source": [
    "# Set up Agents and Tools"
   ]
  },
  {
   "cell_type": "code",
   "execution_count": null,
   "metadata": {},
   "outputs": [],
   "source": [
    "from agno.agent import Agent\n",
    "from agno.memory.v2.memory import Memory\n",
    "from agno.models.openai import OpenAIChat\n",
    "from agno.tools.duckduckgo import DuckDuckGoTools\n",
    "\n",
    "memory = Memory()\n",
    "\n",
    "memory.clear()\n",
    "\n",
    "# Flight agent with live search + structured JSON responses\n",
    "flight_agent = Agent(\n",
    "    name=\"FlightPlanner\",\n",
    "    model=OpenAIChat(id=\"gpt-4o\", temperature=0.2),\n",
    "    description=\"Suggests flight options, itineraries, and pricing.\",\n",
    "    instructions=[\n",
    "        \"Always provide flight options with airlines, duration, and price.\",\n",
    "        \"Return responses as JSON with keys: airline, departure, arrival, price.\",\n",
    "    ],\n",
    "    tools=[DuckDuckGoTools()],\n",
    "    show_tool_calls=True,\n",
    "    memory=memory,\n",
    ")\n",
    "\n",
    "# Hotel agent with memory for user preferences\n",
    "hotel_agent = Agent(\n",
    "    name=\"HotelFinder\",\n",
    "    model=OpenAIChat(id=\"gpt-4o\"),\n",
    "    description=\"Recommends accommodations matching location, preferences, and budget.\",\n",
    "    instructions=[\"Always include at least 3 hotel options with price and location.\"],\n",
    "    markdown=True,\n",
    "    memory=memory,\n",
    ")\n",
    "\n",
    "# Activity agent with creative flair\n",
    "activity_agent = Agent(\n",
    "    name=\"ActivitySuggester\",\n",
    "    model=OpenAIChat(id=\"gpt-4o\", temperature=0.8),\n",
    "    description=\"Proposes activities and attractions tailored to the traveler’s interests.\",\n",
    "    instructions=[\n",
    "        \"Group activities by category: cultural, food, outdoors.\",\n",
    "        \"Include both popular and hidden-gem recommendations.\",\n",
    "    ],\n",
    "    markdown=True,\n",
    "    memory=memory,\n",
    ")"
   ]
  },
  {
   "cell_type": "code",
   "execution_count": null,
   "metadata": {},
   "outputs": [],
   "source": [
    "from agno.team import Team\n",
    "\n",
    "travel_team = Team(\n",
    "    name=\"TravelTeam\",\n",
    "    mode=\"coordinate\",\n",
    "    members=[flight_agent, hotel_agent, activity_agent],\n",
    "    model=OpenAIChat(id=\"gpt-4o\"),\n",
    "    success_criteria=\"A well-structured travel plan including flights, hotels, and activities when relevant.\",\n",
    "    instructions=[\n",
    "        \"Direct flight-related questions to FlightPlanner.\",\n",
    "        \"Direct accommodation-related questions to HotelFinder.\",\n",
    "        \"Direct activity-related questions to ActivitySuggester.\",\n",
    "        \"If vague, use most up to date information you have or ask specific clarifications\",\n",
    "    ],\n",
    "    show_tool_calls=True,\n",
    "    show_members_responses=True,\n",
    "    markdown=True,\n",
    "    memory=memory,\n",
    ")"
   ]
  },
  {
   "cell_type": "markdown",
   "metadata": {
    "id": "hUCmLhScD-_f"
   },
   "source": [
    "# Run Agent"
   ]
  },
  {
   "cell_type": "code",
   "execution_count": null,
   "metadata": {},
   "outputs": [],
   "source": [
    "print(\"Welcome to Travel Assistant! Type 'TERMINATE' to exit.\")\n",
    "\n",
    "\n",
    "travel_team.print_response(\"I want to travel to Rome from SFO in 6 months\", stream=True)\n",
    "\n",
    "travel_team.print_response(\"Can you find me the chepeat flights from JFK to London?\", stream=True)"
   ]
  },
  {
   "cell_type": "markdown",
   "metadata": {
    "id": "vbUmfR2YeDIQ"
   },
   "source": [
    "![Agno Agent Traces](https://storage.googleapis.com/arize-phoenix-assets/assets/images/phoenix-docs-images/agno-orchestrator-framework.png)"
   ]
  },
  {
   "cell_type": "markdown",
   "metadata": {
    "id": "q7xszMaaeGQs"
   },
   "source": [
    "# Evaluate Agno Travel Agent"
   ]
  },
  {
   "cell_type": "code",
   "execution_count": null,
   "metadata": {},
   "outputs": [],
   "source": [
    "from phoenix.client import AsyncClient\n",
    "\n",
    "px_client = AsyncClient()\n",
    "primary_df = await px_client.spans.get_spans_dataframe(\n",
    "    project_identifier=\"agno-orchestrator-worker-agent\"\n",
    ")\n",
    "primary_df"
   ]
  },
  {
   "cell_type": "code",
   "execution_count": null,
   "metadata": {},
   "outputs": [],
   "source": [
    "import pandas as pd\n",
    "\n",
    "trace_df = primary_df.groupby(\"context.trace_id\").agg(\n",
    "    {\n",
    "        \"attributes.input.value\": \"first\",\n",
    "        \"attributes.output.value\": lambda x: \" \".join(x.dropna()),\n",
    "    }\n",
    ")\n",
    "\n",
    "trace_df.head()"
   ]
  },
  {
   "cell_type": "markdown",
   "metadata": {
    "id": "qFnLzydqDvhD"
   },
   "source": [
    "## Agent Tool Calling Eval"
   ]
  },
  {
   "cell_type": "code",
   "execution_count": null,
   "metadata": {},
   "outputs": [],
   "source": [
    "TOOL_CALLING_ORDER = \"\"\"\n",
    "You are evaluating the correctness of the tool calling order in an LLM application's trace.\n",
    "\n",
    "You will be given:\n",
    "1. The user input that initiated the trace\n",
    "2. The full trace output, including the sequence of tool calls made by the agent\n",
    "\n",
    "##\n",
    "User Input:\n",
    "{attributes.input.value}\n",
    "\n",
    "Trace Output:\n",
    "{attributes.output.value}\n",
    "##\n",
    "\n",
    "Respond with exactly one word: `correct` or `incorrect`.\n",
    "1. `correct` →\n",
    "- The tool calls occur in the appropriate order to fulfill the user's request logically and effectively.\n",
    "- A proper answer involves calls to reviews, summaries, and recommendations where relevant.\n",
    "2. `incorrect` → The tool calls are out of order, missing, or do not follow a coherent sequence for the given input.\n",
    "\"\"\""
   ]
  },
  {
   "cell_type": "code",
   "execution_count": null,
   "metadata": {},
   "outputs": [],
   "source": [
    "import nest_asyncio\n",
    "\n",
    "from phoenix.evals import OpenAIModel, llm_classify\n",
    "from phoenix.trace import suppress_tracing\n",
    "\n",
    "nest_asyncio.apply()\n",
    "\n",
    "model = OpenAIModel(\n",
    "    api_key=os.environ[\"OPENAI_API_KEY\"],\n",
    "    model=\"gpt-4.1\",\n",
    "    temperature=0.0,\n",
    ")\n",
    "\n",
    "rails = [\"correct\", \"incorrect\"]\n",
    "\n",
    "with suppress_tracing():\n",
    "    tool_eval_results = llm_classify(\n",
    "        data=trace_df,\n",
    "        template=TOOL_CALLING_ORDER,\n",
    "        model=model,\n",
    "        rails=rails,\n",
    "        provide_explanation=True,\n",
    "        verbose=False,\n",
    "    )\n",
    "\n",
    "tool_eval_results"
   ]
  },
  {
   "cell_type": "code",
   "execution_count": null,
   "metadata": {},
   "outputs": [],
   "source": [
    "root_spans = primary_df[primary_df[\"parent_id\"].isna()][[\"context.trace_id\", \"context.span_id\"]]\n",
    "\n",
    "tool_eval_results = tool_eval_results[[\"label\", \"explanation\"]]\n",
    "\n",
    "# Merge tool correctness eval results with trace_df\n",
    "tool_correctness_df = pd.merge(\n",
    "    trace_df, tool_eval_results, left_index=True, right_index=True, how=\"left\"\n",
    ")\n",
    "\n",
    "# Merge with root spans to get valid span IDs\n",
    "tool_correctness_df = pd.merge(\n",
    "    tool_correctness_df.reset_index(), root_spans, on=\"context.trace_id\", how=\"left\"\n",
    ").set_index(\"context.span_id\", drop=False)"
   ]
  },
  {
   "cell_type": "markdown",
   "metadata": {
    "id": "ZCYx3gtok3DD"
   },
   "source": [
    "### Log Results to Phoenix"
   ]
  },
  {
   "cell_type": "code",
   "execution_count": null,
   "metadata": {},
   "outputs": [],
   "source": [
    "# Log to Phoenix\n",
    "await px_client.annotations.log_span_annotations_dataframe(\n",
    "    dataframe=tool_correctness_df, annotation_name=\"Tool Correctness\", annotator_kind=\"LLM\"\n",
    ")"
   ]
  },
  {
   "cell_type": "markdown",
   "metadata": {
    "id": "hfn_R1aIoMqc"
   },
   "source": [
    "![Eval Results](https://storage.googleapis.com/arize-phoenix-assets/assets/images/agno-agents-orchestrator-eval.png)"
   ]
  }
 ],
 "metadata": {
  "language_info": {
   "name": "python"
  }
 },
 "nbformat": 4,
 "nbformat_minor": 0
}
